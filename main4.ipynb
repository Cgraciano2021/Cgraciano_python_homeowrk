{
 "cells": [
  {
   "cell_type": "code",
   "execution_count": null,
   "id": "d21ba29d-33b9-4447-83eb-d5afb45fec32",
   "metadata": {},
   "outputs": [],
   "source": [
    "#import info and create empty lists to add the csv values to\n",
    "\n",
    "import os\n",
    "import csv\n",
    "file = os.path.join('..', 'Resources', 'budget_data.csv')\n",
    "with open('budget_data.csv','r') as csvfile:\n",
    "    csvreader = csv.reader(csvfile, delimiter = ',')\n",
    "    header = next(csvreader)\n",
    "    #create empty lists to add the csv values to \n",
    "    month_count = []\n",
    "    profit = []\n",
    "    change_profit = []\n",
    "    \n",
    "    for row in csvreader:\n",
    "        month_count.append(row[0])\n",
    "        profit.append(int(row[1]))\n",
    "    for i in range(len(profit)-1):\n",
    "        change_profit.append(profit[i+1]-profit[i])"
   ]
  },
  {
   "cell_type": "code",
   "execution_count": 8,
   "id": "e7b2e3f2-65ee-4cee-975d-2df7782f38a4",
   "metadata": {},
   "outputs": [],
   "source": [
    "# set string to increase and decrease\n",
    "\n",
    "increase = max(change_profit)\n",
    "decrease = min(change_profit)"
   ]
  },
  {
   "cell_type": "code",
   "execution_count": 11,
   "id": "76966fe0-4ded-4e69-8319-b6fb18ffe5bd",
   "metadata": {},
   "outputs": [],
   "source": [
    "#use the index and set increases and decreae\n",
    "month_increase = change_profit.index(max(change_profit))+1\n",
    "month_decrease = change_profit.index(min(change_profit))+1"
   ]
  },
  {
   "cell_type": "markdown",
   "id": "00ff84df-d713-42e0-a5cb-1de0df4c8651",
   "metadata": {},
   "source": [
    "#print it out \n",
    "print(\"Financial Analysis\")\n",
    "print(\"------------------------\")\n",
    "print(f\"Total Months:{len(month_count)}\")\n",
    "print(f\"Total: ${sum(profit)}\")\n",
    "print(f\"Average Change: {round(sum(change_profit)/len(change_profit),2)}\")\n",
    "print(f\"Greatest Increase in Profits: {month_count[month_increase]} (${(str(increase))})\")\n",
    "print(f\"Greatest Decrease in Profits: {month_count[month_decrease]} (${(str(decrease))})\")  "
   ]
  },
  {
   "cell_type": "code",
   "execution_count": null,
   "id": "8e9d8c50-a32e-4ffa-92f0-ae2bae4f30ab",
   "metadata": {},
   "outputs": [],
   "source": []
  }
 ],
 "metadata": {
  "kernelspec": {
   "display_name": "Python 3 (ipykernel)",
   "language": "python",
   "name": "python3"
  },
  "language_info": {
   "codemirror_mode": {
    "name": "ipython",
    "version": 3
   },
   "file_extension": ".py",
   "mimetype": "text/x-python",
   "name": "python",
   "nbconvert_exporter": "python",
   "pygments_lexer": "ipython3",
   "version": "3.8.8"
  }
 },
 "nbformat": 4,
 "nbformat_minor": 5
}
